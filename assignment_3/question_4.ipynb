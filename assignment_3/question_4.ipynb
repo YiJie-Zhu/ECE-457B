{
 "cells": [
  {
   "cell_type": "code",
   "execution_count": 32,
   "metadata": {},
   "outputs": [],
   "source": [
    "import torch\n",
    "import torch.nn as nn\n",
    "import torch.optim as optim\n",
    "import matplotlib.pyplot as plt\n",
    "import pandas as pd\n",
    "from torch.utils.data import DataLoader, TensorDataset\n"
   ]
  },
  {
   "cell_type": "code",
   "execution_count": 73,
   "metadata": {},
   "outputs": [
    {
     "data": {
      "image/png": "[encoded data removed]",
      "text/plain": [
       "<Figure size 640x480 with 1 Axes>"
      ]
     },
     "metadata": {},
     "output_type": "display_data"
    }
   ],
   "source": [
    "# Part 1.a\n",
    "genres = [\"action\", \"comedy\", \"documentary\", \"drama\", \"horror\", \"thriller\"]\n",
    "genres_count = {\n",
    "    \"action\": 0,\n",
    "    \"comedy\": 0,\n",
    "    \"documentary\": 0,\n",
    "    \"drama\": 0,\n",
    "    \"horror\": 0,\n",
    "    \"thriller\": 0\n",
    "}\n",
    "label_map = {\n",
    "    \"action\": 0,\n",
    "    \"comedy\": 1,\n",
    "    \"documentary\": 2,\n",
    "    \"drama\": 3,\n",
    "    \"horror\": 4,\n",
    "    \"thriller\": 5\n",
    "}\n",
    "labels = []\n",
    "\n",
    "train_file = open('data/train.txt', 'r')\n",
    "while True:\n",
    "    line = train_file.readline()\n",
    "    if not line:\n",
    "        break\n",
    "    \n",
    "    genre = line.split(\" ::: \")[1]\n",
    "    genres_count[genre] += 1\n",
    "    labels.append(label_map[genre])\n",
    "\n",
    "\n",
    "plt.bar(genres, genres_count.values())\n",
    "\n",
    "# validation labels\n",
    "validation_labels = []\n",
    "\n",
    "validate_file = open('data/validate.txt', 'r')\n",
    "while True:\n",
    "    line = validate_file.readline()\n",
    "    if not line:\n",
    "        break\n",
    "    \n",
    "    genre = line.split(\" ::: \")[1]\n",
    "    validation_labels.append(label_map[genre])\n",
    "\n"
   ]
  },
  {
   "cell_type": "code",
   "execution_count": 74,
   "metadata": {},
   "outputs": [
    {
     "name": "stdout",
     "output_type": "stream",
     "text": [
      "torch.Size([19224, 299])\n",
      "torch.Size([19224])\n"
     ]
    }
   ],
   "source": [
    "# 1.2\n",
    "train_df = pd.read_csv('data/train.csv', header=0).drop(columns=['f_1'])\n",
    "\n",
    "feature_tensor = torch.tensor(train_df.drop(columns=['genre']).values)\n",
    "label_tensor = torch.tensor(labels, dtype=torch.long)\n",
    "\n",
    "print(feature_tensor.shape)\n",
    "print(label_tensor.shape)\n",
    "\n",
    "dataset = TensorDataset(feature_tensor, label_tensor)\n",
    "dataloader = DataLoader(dataset, batch_size=64)\n",
    "\n",
    "validation_df = pd.read_csv('data/validate.csv', header=0).drop(columns=['f_1'])\n",
    "\n",
    "v_feature_tensor = torch.tensor(validation_df.drop(columns=['genre']).values)\n",
    "v_label_tensor = torch.tensor(validation_labels, dtype=torch.long)\n",
    "\n"
   ]
  },
  {
   "cell_type": "code",
   "execution_count": 82,
   "metadata": {},
   "outputs": [
    {
     "name": "stdout",
     "output_type": "stream",
     "text": [
      "tensor([15171.0127, 60543.2906, 31513.3595, 43447.9159, 28535.4644, 46679.6774],\n",
      "       dtype=torch.float64, grad_fn=<SelectBackward0>)\n",
      "tensor(2826.6272, dtype=torch.float64, grad_fn=<NllLossBackward0>)\n"
     ]
    }
   ],
   "source": [
    "# 1.3\n",
    "class SimpleNeuralNet(nn.Module):\n",
    "    def __init__(self, num_layers, num_nodes):\n",
    "        super().__init__()\n",
    "        layers = []\n",
    "\n",
    "        prev_size = 299\n",
    "        for _ in range(num_layers):\n",
    "            layers.append(nn.Linear(prev_size, num_nodes, dtype=torch.float64))\n",
    "            prev_size = num_nodes\n",
    "\n",
    "        layers.append(nn.Linear(prev_size, 6, dtype=torch.float64)) # Output layer\n",
    "\n",
    "        self.stack = nn.Sequential(*layers)\n",
    "\n",
    "    def forward(self, x):\n",
    "        logits = self.stack(x)\n",
    "        return logits\n",
    "    \n",
    "    def train(self, dataloader, learning_rate, num_epochs):\n",
    "        criterion = nn.CrossEntropyLoss()\n",
    "        optimizer = optim.Adam(self.parameters(), lr=learning_rate)\n",
    "\n",
    "        for _ in range(num_epochs):\n",
    "            running_loss = 0\n",
    "            for inputs, label in dataloader:\n",
    "                output = self(inputs)\n",
    "                loss = criterion(output, label)\n",
    "                loss.backward()\n",
    "                optimizer.step()\n",
    "                running_loss += loss.item()\n",
    "\n",
    "            # report train and validation loss\n",
    "\n",
    "\n",
    "    \n",
    "# part i)\n",
    "model = SimpleNeuralNet(1, 32)\n",
    "    \n",
    "model.train(dataloader, 0.001, 100)\n",
    "\n",
    "criterion = nn.CrossEntropyLoss()\n",
    "validate_output = model(v_feature_tensor)\n",
    "print(validate_output[0])\n",
    "val_loss = criterion(validate_output, v_label_tensor)\n",
    "print(val_loss)\n",
    "    \n"
   ]
  }
 ],
 "metadata": {
  "kernelspec": {
   "display_name": "general",
   "language": "python",
   "name": "python3"
  },
  "language_info": {
   "codemirror_mode": {
    "name": "ipython",
    "version": 3
   },
   "file_extension": ".py",
   "mimetype": "text/x-python",
   "name": "python",
   "nbconvert_exporter": "python",
   "pygments_lexer": "ipython3",
   "version": "3.12.2"
  }
 },
 "nbformat": 4,
 "nbformat_minor": 2
}
